{
  "nbformat": 4,
  "nbformat_minor": 0,
  "metadata": {
    "colab": {
      "provenance": []
    },
    "kernelspec": {
      "name": "python3",
      "display_name": "Python 3"
    },
    "language_info": {
      "name": "python"
    }
  },
  "cells": [
    {
      "cell_type": "code",
      "execution_count": 4,
      "metadata": {
        "colab": {
          "base_uri": "https://localhost:8080/",
          "height": 206
        },
        "id": "2MfPuQlZWTpY",
        "outputId": "39f59449-6ff6-4e9d-a50f-1040a5c53d98"
      },
      "outputs": [
        {
          "output_type": "execute_result",
          "data": {
            "text/plain": [
              "      #              Player  GP-GS   G   A  PTS  SH    SH%  SOG   SOG%  GWG  \\\n",
              "0  44.0          Ward, Emma  19-19  30  46   76  77  0.390   55  0.714    1   \n",
              "1  24.0  Trinkaus, Caroline  19-18  32  11   43  72  0.444   57  0.792    4   \n",
              "2   5.0      Muchnick, Emma  19-18  34   7   41  71  0.479   55  0.775    2   \n",
              "3  19.0     Britton, Gracie  19-14  20  10   30  41  0.488   33  0.805    0   \n",
              "4  11.0     Vogelman, Alexa  19-10  21   6   27  46  0.457   35  0.761    0   \n",
              "\n",
              "   FPG  FPS  GB  TO  CT  DC  FOULS RC-YC-GC  \n",
              "0    3    9   6  41   2   0      9    0-1-0  \n",
              "1    9   11   6  16   5   8      6    0-3-7  \n",
              "2   12   24  27  31   9  13      8    0-1-1  \n",
              "3    3    7   8  16   0   1      2    0-0-1  \n",
              "4    9   14  25  27  13  31     26    0-3-0  "
            ],
            "text/html": [
              "\n",
              "  <div id=\"df-b5b9308a-9380-45bb-9405-023ce1d0be84\" class=\"colab-df-container\">\n",
              "    <div>\n",
              "<style scoped>\n",
              "    .dataframe tbody tr th:only-of-type {\n",
              "        vertical-align: middle;\n",
              "    }\n",
              "\n",
              "    .dataframe tbody tr th {\n",
              "        vertical-align: top;\n",
              "    }\n",
              "\n",
              "    .dataframe thead th {\n",
              "        text-align: right;\n",
              "    }\n",
              "</style>\n",
              "<table border=\"1\" class=\"dataframe\">\n",
              "  <thead>\n",
              "    <tr style=\"text-align: right;\">\n",
              "      <th></th>\n",
              "      <th>#</th>\n",
              "      <th>Player</th>\n",
              "      <th>GP-GS</th>\n",
              "      <th>G</th>\n",
              "      <th>A</th>\n",
              "      <th>PTS</th>\n",
              "      <th>SH</th>\n",
              "      <th>SH%</th>\n",
              "      <th>SOG</th>\n",
              "      <th>SOG%</th>\n",
              "      <th>GWG</th>\n",
              "      <th>FPG</th>\n",
              "      <th>FPS</th>\n",
              "      <th>GB</th>\n",
              "      <th>TO</th>\n",
              "      <th>CT</th>\n",
              "      <th>DC</th>\n",
              "      <th>FOULS</th>\n",
              "      <th>RC-YC-GC</th>\n",
              "    </tr>\n",
              "  </thead>\n",
              "  <tbody>\n",
              "    <tr>\n",
              "      <th>0</th>\n",
              "      <td>44.0</td>\n",
              "      <td>Ward, Emma</td>\n",
              "      <td>19-19</td>\n",
              "      <td>30</td>\n",
              "      <td>46</td>\n",
              "      <td>76</td>\n",
              "      <td>77</td>\n",
              "      <td>0.390</td>\n",
              "      <td>55</td>\n",
              "      <td>0.714</td>\n",
              "      <td>1</td>\n",
              "      <td>3</td>\n",
              "      <td>9</td>\n",
              "      <td>6</td>\n",
              "      <td>41</td>\n",
              "      <td>2</td>\n",
              "      <td>0</td>\n",
              "      <td>9</td>\n",
              "      <td>0-1-0</td>\n",
              "    </tr>\n",
              "    <tr>\n",
              "      <th>1</th>\n",
              "      <td>24.0</td>\n",
              "      <td>Trinkaus, Caroline</td>\n",
              "      <td>19-18</td>\n",
              "      <td>32</td>\n",
              "      <td>11</td>\n",
              "      <td>43</td>\n",
              "      <td>72</td>\n",
              "      <td>0.444</td>\n",
              "      <td>57</td>\n",
              "      <td>0.792</td>\n",
              "      <td>4</td>\n",
              "      <td>9</td>\n",
              "      <td>11</td>\n",
              "      <td>6</td>\n",
              "      <td>16</td>\n",
              "      <td>5</td>\n",
              "      <td>8</td>\n",
              "      <td>6</td>\n",
              "      <td>0-3-7</td>\n",
              "    </tr>\n",
              "    <tr>\n",
              "      <th>2</th>\n",
              "      <td>5.0</td>\n",
              "      <td>Muchnick, Emma</td>\n",
              "      <td>19-18</td>\n",
              "      <td>34</td>\n",
              "      <td>7</td>\n",
              "      <td>41</td>\n",
              "      <td>71</td>\n",
              "      <td>0.479</td>\n",
              "      <td>55</td>\n",
              "      <td>0.775</td>\n",
              "      <td>2</td>\n",
              "      <td>12</td>\n",
              "      <td>24</td>\n",
              "      <td>27</td>\n",
              "      <td>31</td>\n",
              "      <td>9</td>\n",
              "      <td>13</td>\n",
              "      <td>8</td>\n",
              "      <td>0-1-1</td>\n",
              "    </tr>\n",
              "    <tr>\n",
              "      <th>3</th>\n",
              "      <td>19.0</td>\n",
              "      <td>Britton, Gracie</td>\n",
              "      <td>19-14</td>\n",
              "      <td>20</td>\n",
              "      <td>10</td>\n",
              "      <td>30</td>\n",
              "      <td>41</td>\n",
              "      <td>0.488</td>\n",
              "      <td>33</td>\n",
              "      <td>0.805</td>\n",
              "      <td>0</td>\n",
              "      <td>3</td>\n",
              "      <td>7</td>\n",
              "      <td>8</td>\n",
              "      <td>16</td>\n",
              "      <td>0</td>\n",
              "      <td>1</td>\n",
              "      <td>2</td>\n",
              "      <td>0-0-1</td>\n",
              "    </tr>\n",
              "    <tr>\n",
              "      <th>4</th>\n",
              "      <td>11.0</td>\n",
              "      <td>Vogelman, Alexa</td>\n",
              "      <td>19-10</td>\n",
              "      <td>21</td>\n",
              "      <td>6</td>\n",
              "      <td>27</td>\n",
              "      <td>46</td>\n",
              "      <td>0.457</td>\n",
              "      <td>35</td>\n",
              "      <td>0.761</td>\n",
              "      <td>0</td>\n",
              "      <td>9</td>\n",
              "      <td>14</td>\n",
              "      <td>25</td>\n",
              "      <td>27</td>\n",
              "      <td>13</td>\n",
              "      <td>31</td>\n",
              "      <td>26</td>\n",
              "      <td>0-3-0</td>\n",
              "    </tr>\n",
              "  </tbody>\n",
              "</table>\n",
              "</div>\n",
              "    <div class=\"colab-df-buttons\">\n",
              "\n",
              "  <div class=\"colab-df-container\">\n",
              "    <button class=\"colab-df-convert\" onclick=\"convertToInteractive('df-b5b9308a-9380-45bb-9405-023ce1d0be84')\"\n",
              "            title=\"Convert this dataframe to an interactive table.\"\n",
              "            style=\"display:none;\">\n",
              "\n",
              "  <svg xmlns=\"http://www.w3.org/2000/svg\" height=\"24px\" viewBox=\"0 -960 960 960\">\n",
              "    <path d=\"M120-120v-720h720v720H120Zm60-500h600v-160H180v160Zm220 220h160v-160H400v160Zm0 220h160v-160H400v160ZM180-400h160v-160H180v160Zm440 0h160v-160H620v160ZM180-180h160v-160H180v160Zm440 0h160v-160H620v160Z\"/>\n",
              "  </svg>\n",
              "    </button>\n",
              "\n",
              "  <style>\n",
              "    .colab-df-container {\n",
              "      display:flex;\n",
              "      gap: 12px;\n",
              "    }\n",
              "\n",
              "    .colab-df-convert {\n",
              "      background-color: #E8F0FE;\n",
              "      border: none;\n",
              "      border-radius: 50%;\n",
              "      cursor: pointer;\n",
              "      display: none;\n",
              "      fill: #1967D2;\n",
              "      height: 32px;\n",
              "      padding: 0 0 0 0;\n",
              "      width: 32px;\n",
              "    }\n",
              "\n",
              "    .colab-df-convert:hover {\n",
              "      background-color: #E2EBFA;\n",
              "      box-shadow: 0px 1px 2px rgba(60, 64, 67, 0.3), 0px 1px 3px 1px rgba(60, 64, 67, 0.15);\n",
              "      fill: #174EA6;\n",
              "    }\n",
              "\n",
              "    .colab-df-buttons div {\n",
              "      margin-bottom: 4px;\n",
              "    }\n",
              "\n",
              "    [theme=dark] .colab-df-convert {\n",
              "      background-color: #3B4455;\n",
              "      fill: #D2E3FC;\n",
              "    }\n",
              "\n",
              "    [theme=dark] .colab-df-convert:hover {\n",
              "      background-color: #434B5C;\n",
              "      box-shadow: 0px 1px 3px 1px rgba(0, 0, 0, 0.15);\n",
              "      filter: drop-shadow(0px 1px 2px rgba(0, 0, 0, 0.3));\n",
              "      fill: #FFFFFF;\n",
              "    }\n",
              "  </style>\n",
              "\n",
              "    <script>\n",
              "      const buttonEl =\n",
              "        document.querySelector('#df-b5b9308a-9380-45bb-9405-023ce1d0be84 button.colab-df-convert');\n",
              "      buttonEl.style.display =\n",
              "        google.colab.kernel.accessAllowed ? 'block' : 'none';\n",
              "\n",
              "      async function convertToInteractive(key) {\n",
              "        const element = document.querySelector('#df-b5b9308a-9380-45bb-9405-023ce1d0be84');\n",
              "        const dataTable =\n",
              "          await google.colab.kernel.invokeFunction('convertToInteractive',\n",
              "                                                    [key], {});\n",
              "        if (!dataTable) return;\n",
              "\n",
              "        const docLinkHtml = 'Like what you see? Visit the ' +\n",
              "          '<a target=\"_blank\" href=https://colab.research.google.com/notebooks/data_table.ipynb>data table notebook</a>'\n",
              "          + ' to learn more about interactive tables.';\n",
              "        element.innerHTML = '';\n",
              "        dataTable['output_type'] = 'display_data';\n",
              "        await google.colab.output.renderOutput(dataTable, element);\n",
              "        const docLink = document.createElement('div');\n",
              "        docLink.innerHTML = docLinkHtml;\n",
              "        element.appendChild(docLink);\n",
              "      }\n",
              "    </script>\n",
              "  </div>\n",
              "\n",
              "\n",
              "    <div id=\"df-35a1a44b-5bc0-45f7-92b3-d0eb108a20b8\">\n",
              "      <button class=\"colab-df-quickchart\" onclick=\"quickchart('df-35a1a44b-5bc0-45f7-92b3-d0eb108a20b8')\"\n",
              "                title=\"Suggest charts\"\n",
              "                style=\"display:none;\">\n",
              "\n",
              "<svg xmlns=\"http://www.w3.org/2000/svg\" height=\"24px\"viewBox=\"0 0 24 24\"\n",
              "     width=\"24px\">\n",
              "    <g>\n",
              "        <path d=\"M19 3H5c-1.1 0-2 .9-2 2v14c0 1.1.9 2 2 2h14c1.1 0 2-.9 2-2V5c0-1.1-.9-2-2-2zM9 17H7v-7h2v7zm4 0h-2V7h2v10zm4 0h-2v-4h2v4z\"/>\n",
              "    </g>\n",
              "</svg>\n",
              "      </button>\n",
              "\n",
              "<style>\n",
              "  .colab-df-quickchart {\n",
              "      --bg-color: #E8F0FE;\n",
              "      --fill-color: #1967D2;\n",
              "      --hover-bg-color: #E2EBFA;\n",
              "      --hover-fill-color: #174EA6;\n",
              "      --disabled-fill-color: #AAA;\n",
              "      --disabled-bg-color: #DDD;\n",
              "  }\n",
              "\n",
              "  [theme=dark] .colab-df-quickchart {\n",
              "      --bg-color: #3B4455;\n",
              "      --fill-color: #D2E3FC;\n",
              "      --hover-bg-color: #434B5C;\n",
              "      --hover-fill-color: #FFFFFF;\n",
              "      --disabled-bg-color: #3B4455;\n",
              "      --disabled-fill-color: #666;\n",
              "  }\n",
              "\n",
              "  .colab-df-quickchart {\n",
              "    background-color: var(--bg-color);\n",
              "    border: none;\n",
              "    border-radius: 50%;\n",
              "    cursor: pointer;\n",
              "    display: none;\n",
              "    fill: var(--fill-color);\n",
              "    height: 32px;\n",
              "    padding: 0;\n",
              "    width: 32px;\n",
              "  }\n",
              "\n",
              "  .colab-df-quickchart:hover {\n",
              "    background-color: var(--hover-bg-color);\n",
              "    box-shadow: 0 1px 2px rgba(60, 64, 67, 0.3), 0 1px 3px 1px rgba(60, 64, 67, 0.15);\n",
              "    fill: var(--button-hover-fill-color);\n",
              "  }\n",
              "\n",
              "  .colab-df-quickchart-complete:disabled,\n",
              "  .colab-df-quickchart-complete:disabled:hover {\n",
              "    background-color: var(--disabled-bg-color);\n",
              "    fill: var(--disabled-fill-color);\n",
              "    box-shadow: none;\n",
              "  }\n",
              "\n",
              "  .colab-df-spinner {\n",
              "    border: 2px solid var(--fill-color);\n",
              "    border-color: transparent;\n",
              "    border-bottom-color: var(--fill-color);\n",
              "    animation:\n",
              "      spin 1s steps(1) infinite;\n",
              "  }\n",
              "\n",
              "  @keyframes spin {\n",
              "    0% {\n",
              "      border-color: transparent;\n",
              "      border-bottom-color: var(--fill-color);\n",
              "      border-left-color: var(--fill-color);\n",
              "    }\n",
              "    20% {\n",
              "      border-color: transparent;\n",
              "      border-left-color: var(--fill-color);\n",
              "      border-top-color: var(--fill-color);\n",
              "    }\n",
              "    30% {\n",
              "      border-color: transparent;\n",
              "      border-left-color: var(--fill-color);\n",
              "      border-top-color: var(--fill-color);\n",
              "      border-right-color: var(--fill-color);\n",
              "    }\n",
              "    40% {\n",
              "      border-color: transparent;\n",
              "      border-right-color: var(--fill-color);\n",
              "      border-top-color: var(--fill-color);\n",
              "    }\n",
              "    60% {\n",
              "      border-color: transparent;\n",
              "      border-right-color: var(--fill-color);\n",
              "    }\n",
              "    80% {\n",
              "      border-color: transparent;\n",
              "      border-right-color: var(--fill-color);\n",
              "      border-bottom-color: var(--fill-color);\n",
              "    }\n",
              "    90% {\n",
              "      border-color: transparent;\n",
              "      border-bottom-color: var(--fill-color);\n",
              "    }\n",
              "  }\n",
              "</style>\n",
              "\n",
              "      <script>\n",
              "        async function quickchart(key) {\n",
              "          const quickchartButtonEl =\n",
              "            document.querySelector('#' + key + ' button');\n",
              "          quickchartButtonEl.disabled = true;  // To prevent multiple clicks.\n",
              "          quickchartButtonEl.classList.add('colab-df-spinner');\n",
              "          try {\n",
              "            const charts = await google.colab.kernel.invokeFunction(\n",
              "                'suggestCharts', [key], {});\n",
              "          } catch (error) {\n",
              "            console.error('Error during call to suggestCharts:', error);\n",
              "          }\n",
              "          quickchartButtonEl.classList.remove('colab-df-spinner');\n",
              "          quickchartButtonEl.classList.add('colab-df-quickchart-complete');\n",
              "        }\n",
              "        (() => {\n",
              "          let quickchartButtonEl =\n",
              "            document.querySelector('#df-35a1a44b-5bc0-45f7-92b3-d0eb108a20b8 button');\n",
              "          quickchartButtonEl.style.display =\n",
              "            google.colab.kernel.accessAllowed ? 'block' : 'none';\n",
              "        })();\n",
              "      </script>\n",
              "    </div>\n",
              "\n",
              "    </div>\n",
              "  </div>\n"
            ],
            "application/vnd.google.colaboratory.intrinsic+json": {
              "type": "dataframe",
              "variable_name": "df",
              "summary": "{\n  \"name\": \"df\",\n  \"rows\": 34,\n  \"fields\": [\n    {\n      \"column\": \"#\",\n      \"properties\": {\n        \"dtype\": \"number\",\n        \"std\": 19.804258869112946,\n        \"min\": 0.0,\n        \"max\": 88.0,\n        \"num_unique_values\": 32,\n        \"samples\": [\n          35.0,\n          20.0,\n          17.0\n        ],\n        \"semantic_type\": \"\",\n        \"description\": \"\"\n      }\n    },\n    {\n      \"column\": \"Player\",\n      \"properties\": {\n        \"dtype\": \"string\",\n        \"num_unique_values\": 34,\n        \"samples\": [\n          \"Rich, Mackenzie\",\n          \"Horvit, Ana\",\n          \"Clark, Superia\"\n        ],\n        \"semantic_type\": \"\",\n        \"description\": \"\"\n      }\n    },\n    {\n      \"column\": \"GP-GS\",\n      \"properties\": {\n        \"dtype\": \"string\",\n        \"num_unique_values\": 24,\n        \"samples\": [\n          \"15-5\",\n          \"2-Feb\",\n          \"19-19\"\n        ],\n        \"semantic_type\": \"\",\n        \"description\": \"\"\n      }\n    },\n    {\n      \"column\": \"G\",\n      \"properties\": {\n        \"dtype\": \"number\",\n        \"std\": 53,\n        \"min\": 0,\n        \"max\": 235,\n        \"num_unique_values\": 16,\n        \"samples\": [\n          30,\n          32,\n          16\n        ],\n        \"semantic_type\": \"\",\n        \"description\": \"\"\n      }\n    },\n    {\n      \"column\": \"A\",\n      \"properties\": {\n        \"dtype\": \"number\",\n        \"std\": 27,\n        \"min\": 0,\n        \"max\": 116,\n        \"num_unique_values\": 13,\n        \"samples\": [\n          112,\n          1,\n          46\n        ],\n        \"semantic_type\": \"\",\n        \"description\": \"\"\n      }\n    },\n    {\n      \"column\": \"PTS\",\n      \"properties\": {\n        \"dtype\": \"number\",\n        \"std\": 80,\n        \"min\": 0,\n        \"max\": 347,\n        \"num_unique_values\": 17,\n        \"samples\": [\n          76,\n          43,\n          23\n        ],\n        \"semantic_type\": \"\",\n        \"description\": \"\"\n      }\n    },\n    {\n      \"column\": \"SH\",\n      \"properties\": {\n        \"dtype\": \"number\",\n        \"std\": 128,\n        \"min\": 0,\n        \"max\": 552,\n        \"num_unique_values\": 17,\n        \"samples\": [\n          77,\n          72,\n          50\n        ],\n        \"semantic_type\": \"\",\n        \"description\": \"\"\n      }\n    },\n    {\n      \"column\": \"SH%\",\n      \"properties\": {\n        \"dtype\": \"number\",\n        \"std\": 0.2677131199936899,\n        \"min\": 0.0,\n        \"max\": 1.0,\n        \"num_unique_values\": 18,\n        \"samples\": [\n          0.39,\n          0.444,\n          0.556\n        ],\n        \"semantic_type\": \"\",\n        \"description\": \"\"\n      }\n    },\n    {\n      \"column\": \"SOG\",\n      \"properties\": {\n        \"dtype\": \"number\",\n        \"std\": 92,\n        \"min\": 0,\n        \"max\": 402,\n        \"num_unique_values\": 17,\n        \"samples\": [\n          55,\n          57,\n          29\n        ],\n        \"semantic_type\": \"\",\n        \"description\": \"\"\n      }\n    },\n    {\n      \"column\": \"SOG%\",\n      \"properties\": {\n        \"dtype\": \"number\",\n        \"std\": 0.3894189155656881,\n        \"min\": 0.0,\n        \"max\": 1.0,\n        \"num_unique_values\": 19,\n        \"samples\": [\n          0.714,\n          0.76,\n          0.917\n        ],\n        \"semantic_type\": \"\",\n        \"description\": \"\"\n      }\n    },\n    {\n      \"column\": \"GWG\",\n      \"properties\": {\n        \"dtype\": \"number\",\n        \"std\": 2,\n        \"min\": 0,\n        \"max\": 10,\n        \"num_unique_values\": 6,\n        \"samples\": [\n          1,\n          4,\n          9\n        ],\n        \"semantic_type\": \"\",\n        \"description\": \"\"\n      }\n    },\n    {\n      \"column\": \"FPG\",\n      \"properties\": {\n        \"dtype\": \"number\",\n        \"std\": 10,\n        \"min\": 0,\n        \"max\": 44,\n        \"num_unique_values\": 8,\n        \"samples\": [\n          9,\n          1,\n          3\n        ],\n        \"semantic_type\": \"\",\n        \"description\": \"\"\n      }\n    },\n    {\n      \"column\": \"FPS\",\n      \"properties\": {\n        \"dtype\": \"number\",\n        \"std\": 22,\n        \"min\": 0,\n        \"max\": 102,\n        \"num_unique_values\": 13,\n        \"samples\": [\n          90,\n          4,\n          9\n        ],\n        \"semantic_type\": \"\",\n        \"description\": \"\"\n      }\n    },\n    {\n      \"column\": \"GB\",\n      \"properties\": {\n        \"dtype\": \"number\",\n        \"std\": 67,\n        \"min\": 0,\n        \"max\": 295,\n        \"num_unique_values\": 18,\n        \"samples\": [\n          6,\n          27,\n          5\n        ],\n        \"semantic_type\": \"\",\n        \"description\": \"\"\n      }\n    },\n    {\n      \"column\": \"TO\",\n      \"properties\": {\n        \"dtype\": \"number\",\n        \"std\": 65,\n        \"min\": 0,\n        \"max\": 286,\n        \"num_unique_values\": 18,\n        \"samples\": [\n          41,\n          16,\n          10\n        ],\n        \"semantic_type\": \"\",\n        \"description\": \"\"\n      }\n    },\n    {\n      \"column\": \"CT\",\n      \"properties\": {\n        \"dtype\": \"number\",\n        \"std\": 34,\n        \"min\": 0,\n        \"max\": 153,\n        \"num_unique_values\": 13,\n        \"samples\": [\n          153,\n          12,\n          2\n        ],\n        \"semantic_type\": \"\",\n        \"description\": \"\"\n      }\n    },\n    {\n      \"column\": \"DC\",\n      \"properties\": {\n        \"dtype\": \"number\",\n        \"std\": 62,\n        \"min\": 0,\n        \"max\": 280,\n        \"num_unique_values\": 13,\n        \"samples\": [\n          240,\n          75,\n          0\n        ],\n        \"semantic_type\": \"\",\n        \"description\": \"\"\n      }\n    },\n    {\n      \"column\": \"FOULS\",\n      \"properties\": {\n        \"dtype\": \"number\",\n        \"std\": 83,\n        \"min\": 0,\n        \"max\": 373,\n        \"num_unique_values\": 19,\n        \"samples\": [\n          9,\n          29,\n          0\n        ],\n        \"semantic_type\": \"\",\n        \"description\": \"\"\n      }\n    },\n    {\n      \"column\": \"RC-YC-GC\",\n      \"properties\": {\n        \"dtype\": \"category\",\n        \"num_unique_values\": 16,\n        \"samples\": [\n          \"0-1-0\",\n          \"0-3-7\",\n          \"0-0-5\"\n        ],\n        \"semantic_type\": \"\",\n        \"description\": \"\"\n      }\n    }\n  ]\n}"
            }
          },
          "metadata": {},
          "execution_count": 4
        }
      ],
      "source": [
        "import pandas as pd\n",
        "\n",
        "# ✅ Load your uploaded CSV\n",
        "df = pd.read_csv('/WOMENS_2025_TEAM.csv')\n",
        "\n",
        "# ✅ Show the first few rows to verify it loaded correctly\n",
        "df.head()\n"
      ]
    },
    {
      "cell_type": "markdown",
      "source": [
        "# New Section"
      ],
      "metadata": {
        "id": "m3TOMYSDNjnj"
      }
    },
    {
      "cell_type": "markdown",
      "source": [
        "### Dataset Description\n",
        "\n",
        "This project uses the official 2025 season statistics for the **Syracuse University Women’s Lacrosse team**.  \n",
        "The dataset includes **individual-level performance metrics** such as:\n",
        "\n",
        "- `G`, `A`, `PTS`: Goals, Assists, and Total Points\n",
        "- `SH`, `SH%`: Total shots and shooting percentage\n",
        "- `SOG`, `SOG%`: Shots on goal and shot accuracy\n",
        "- `TO`, `CT`: Turnovers and caused turnovers\n",
        "- `GB`, `DC`: Ground balls and draw controls\n",
        "- `FOULS`, `RC-YC-GC`: Fouls and cards\n",
        "- `GP-GS`: Games Played and Games Started\n",
        "\n",
        "These stats allow us to evaluate individual and team performance across offensive and defensive contributions.\n"
      ],
      "metadata": {
        "id": "Z9b_PAddm1Km"
      }
    },
    {
      "cell_type": "code",
      "source": [
        "# ✅ Filter rows where GP-GS is like \"number-number\"\n",
        "df = df[df['GP-GS'].str.match(r'^\\d+-\\d+$')]\n",
        "\n",
        "# ✅ Extract GP and GS\n",
        "df[['GP', 'GS']] = df['GP-GS'].str.split('-', expand=True).astype(int)\n",
        "\n",
        "# ✅ Convert key columns to numeric (handle SH%, SOG%, etc.)\n",
        "numeric_cols = ['G', 'A', 'PTS', 'SH', 'SH%', 'SOG', 'SOG%', 'GB', 'TO', 'CT', 'DC']\n",
        "for col in numeric_cols:\n",
        "    df[col] = pd.to_numeric(df[col], errors='coerce')\n",
        "\n",
        "\n",
        "\n",
        "\n",
        "\n",
        "\n",
        "\n"
      ],
      "metadata": {
        "id": "ZR-28tUwYgIZ"
      },
      "execution_count": 5,
      "outputs": []
    },
    {
      "cell_type": "markdown",
      "source": [
        "### Feature Engineering\n",
        "\n",
        "To prepare the data for analysis:\n",
        "- We first removed rows with malformed `GP-GS` entries.\n",
        "- Then, we split the `GP-GS` column into two numeric fields: `GP` (Games Played) and `GS` (Games Started).\n",
        "- We also converted key performance columns (`G`, `A`, `SH%`, `TO`, etc.) to numeric format for proper calculations.\n",
        "\n",
        "This step ensures the dataset is clean and analysis-ready.\n"
      ],
      "metadata": {
        "id": "O7qadQKPm_oz"
      }
    },
    {
      "cell_type": "code",
      "source": [
        "# Q1: Total games played\n",
        "total_games = df['GP'].max()\n",
        "print(f\"1️⃣ Total games played: {total_games}\")"
      ],
      "metadata": {
        "colab": {
          "base_uri": "https://localhost:8080/"
        },
        "id": "c5_tN_zgnDvq",
        "outputId": "3dcb21a8-208f-427b-a0cb-be000462b0bb"
      },
      "execution_count": 6,
      "outputs": [
        {
          "output_type": "stream",
          "name": "stdout",
          "text": [
            "1️⃣ Total games played: 19\n"
          ]
        }
      ]
    },
    {
      "cell_type": "markdown",
      "source": [
        "This question helps understand the **size of the season**.  \n",
        "We assume the total number of games played equals the **maximum value in the `GP` column** (Games Played).  \n",
        "Since each row is a player, and some players may not have played all games, using the maximum value gives us the full season length."
      ],
      "metadata": {
        "id": "Ft9c0MvEnE5A"
      }
    },
    {
      "cell_type": "code",
      "source": [
        "# Q2: Average goals per game\n",
        "avg_goals = df['G'].sum() / total_games\n",
        "print(f\"2️⃣ Average goals per game: {avg_goals:.2f}\")"
      ],
      "metadata": {
        "colab": {
          "base_uri": "https://localhost:8080/"
        },
        "id": "qv2gJRV5nIRf",
        "outputId": "6f7b5a34-60d4-48a9-db99-a99f6e1f79ba"
      },
      "execution_count": 7,
      "outputs": [
        {
          "output_type": "stream",
          "name": "stdout",
          "text": [
            "2️⃣ Average goals per game: 10.84\n"
          ]
        }
      ]
    },
    {
      "cell_type": "markdown",
      "source": [
        "We calculate this by summing all player goals (`G`) and dividing by the total number of games.  \n",
        "This gives us a basic sense of the team’s offensive output per match."
      ],
      "metadata": {
        "id": "1HwRfhjGnK_d"
      }
    },
    {
      "cell_type": "code",
      "source": [
        "# Q3: Average assists per game\n",
        "avg_assists = df['A'].sum() / total_games\n",
        "print(f\"3️⃣ Average assists per game: {avg_assists:.2f}\")"
      ],
      "metadata": {
        "colab": {
          "base_uri": "https://localhost:8080/"
        },
        "id": "SHHf8AHDnPv1",
        "outputId": "4f913ce9-67c0-442b-aab1-b68b37154b27"
      },
      "execution_count": 8,
      "outputs": [
        {
          "output_type": "stream",
          "name": "stdout",
          "text": [
            "3️⃣ Average assists per game: 5.42\n"
          ]
        }
      ]
    },
    {
      "cell_type": "markdown",
      "source": [
        "Similar to the goals calculation, we total all assists (`A`) and divide by the number of games played.  \n",
        "This helps assess how much of the offense came from coordinated passing rather than individual scoring."
      ],
      "metadata": {
        "id": "8heru9OmnSSe"
      }
    },
    {
      "cell_type": "code",
      "source": [
        "# Q4: Highest shot accuracy (min 10 shots to be fair)\n",
        "df_shooters = df[df['SH'] >= 10]\n",
        "most_accurate = df_shooters.sort_values(by='SH%', ascending=False).iloc[0]\n",
        "print(f\"4️⃣ Highest shot accuracy: {most_accurate['Player']} ({most_accurate['SH%']:.3f})\")\n",
        "\n",
        "\n",
        "\n",
        "\n",
        "\n",
        "\n",
        "\n"
      ],
      "metadata": {
        "colab": {
          "base_uri": "https://localhost:8080/"
        },
        "id": "x5iZ7U8DnUmJ",
        "outputId": "0cd8ceb6-93cc-4735-a96e-fe6b8a5b372e"
      },
      "execution_count": 9,
      "outputs": [
        {
          "output_type": "stream",
          "name": "stdout",
          "text": [
            "4️⃣ Highest shot accuracy: DeVito, Sam (0.667)\n"
          ]
        }
      ]
    },
    {
      "cell_type": "markdown",
      "source": [
        "We use the `SH%` column (Shot %) to find the most accurate shooter.  \n",
        "To keep it fair, we filter to players who took at least 10 shots.  \n",
        "This avoids cases where someone scored on their only shot and gets 100%."
      ],
      "metadata": {
        "id": "sjRwowwqnXfl"
      }
    },
    {
      "cell_type": "code",
      "source": [
        "# Q5: Most turnovers\n",
        "most_turnovers = df.loc[df['TO'].idxmax()]\n",
        "print(f\"5️⃣ Most turnovers: {most_turnovers['Player']} ({int(most_turnovers['TO'])} TOs)\")"
      ],
      "metadata": {
        "colab": {
          "base_uri": "https://localhost:8080/"
        },
        "id": "M-yiN62EnaXW",
        "outputId": "af5359da-2602-41b9-a6bf-7fd07d8c53bd"
      },
      "execution_count": 10,
      "outputs": [
        {
          "output_type": "stream",
          "name": "stdout",
          "text": [
            "5️⃣ Most turnovers: Ward, Emma (41 TOs)\n"
          ]
        }
      ]
    },
    {
      "cell_type": "markdown",
      "source": [
        "This gives insight into **risky or error-prone players**.  \n",
        "Turnovers (`TO`) represent lost possession and are critical in evaluating both offensive efficiency and decision-making."
      ],
      "metadata": {
        "id": "wpgK4vdSnbf0"
      }
    },
    {
      "cell_type": "code",
      "source": [
        "# Q6: Most ground balls\n",
        "most_gb = df.loc[df['GB'].idxmax()]\n",
        "print(f\"6️⃣ Most ground balls: {most_gb['Player']} ({int(most_gb['GB'])} GB)\")"
      ],
      "metadata": {
        "colab": {
          "base_uri": "https://localhost:8080/"
        },
        "id": "UwZiTAzHng7I",
        "outputId": "1a7c1d94-fefe-45ac-f510-a1c0654d5730"
      },
      "execution_count": 11,
      "outputs": [
        {
          "output_type": "stream",
          "name": "stdout",
          "text": [
            "6️⃣ Most ground balls: Benoit, Kaci (34 GB)\n"
          ]
        }
      ]
    },
    {
      "cell_type": "markdown",
      "source": [
        "Ground balls (`GB`) reflect **hustle and defensive contribution**.  \n",
        "Players who recover the most ground balls are often key defenders or midfielders who keep possession alive."
      ],
      "metadata": {
        "id": "J5-XJtQhnjQu"
      }
    },
    {
      "cell_type": "code",
      "source": [
        "# Q7: Top scorer\n",
        "top_scorer = df.loc[df['G'].idxmax()]\n",
        "print(f\"7️⃣ Top scorer: {top_scorer['Player']} ({int(top_scorer['G'])} goals)\")"
      ],
      "metadata": {
        "colab": {
          "base_uri": "https://localhost:8080/"
        },
        "id": "suDh_bqhnlX0",
        "outputId": "0230ff4b-f829-4962-c90e-5f5458ce9d67"
      },
      "execution_count": 12,
      "outputs": [
        {
          "output_type": "stream",
          "name": "stdout",
          "text": [
            "7️⃣ Top scorer: Muchnick, Emma (34 goals)\n"
          ]
        }
      ]
    },
    {
      "cell_type": "markdown",
      "source": [
        "A simple but important metric: we identify the player with the highest number of goals (`G`).  \n",
        "This often reflects who the team relied on most for offensive production."
      ],
      "metadata": {
        "id": "ZmSD4ydWnn9H"
      }
    },
    {
      "cell_type": "code",
      "source": [
        "#  Q8: Proxy \"Most Improved\" via custom impact score\n",
        "df['impact_score'] = (df['G'] + df['A'] + df['GB'] + df['DC'] - df['TO']) / df['GP']\n",
        "most_improved = df.sort_values(by='impact_score', ascending=False).iloc[0]\n",
        "print(f\"8️⃣ Proxy Most Improved: {most_improved['Player']} (Impact Score: {most_improved['impact_score']:.2f})\")"
      ],
      "metadata": {
        "colab": {
          "base_uri": "https://localhost:8080/"
        },
        "id": "kC2VVrXNnp4Q",
        "outputId": "f41cde9b-0b22-4282-b639-e3de73d84960"
      },
      "execution_count": 13,
      "outputs": [
        {
          "output_type": "stream",
          "name": "stdout",
          "text": [
            "8️⃣ Proxy Most Improved: Rode, Meghan (Impact Score: 4.29)\n"
          ]
        }
      ]
    },
    {
      "cell_type": "markdown",
      "source": [
        "Since we don't have per-game or multi-season data, we use a **proxy metric**:\n",
        "\n",
        "`impact_score = (Goals + Assists + Ground Balls + Draw Controls - Turnovers) / Games Played`\n",
        "\n",
        "This reflects each player's **positive contribution per game**, while penalizing for lost possessions.  \n",
        "The player with the highest score is considered the most impactful relative to their usage — a stand-in for “most improved”."
      ],
      "metadata": {
        "id": "Vc0whmKqnsB1"
      }
    },
    {
      "cell_type": "markdown",
      "source": [
        "LLM Part\n"
      ],
      "metadata": {
        "id": "uWfYjWYML2E1"
      }
    },
    {
      "cell_type": "code",
      "source": [
        "!pip install -q requests\n"
      ],
      "metadata": {
        "id": "eb_ujLipMCEb"
      },
      "execution_count": 14,
      "outputs": []
    },
    {
      "cell_type": "code",
      "source": [
        "import requests\n",
        "\n",
        "GROQ_API_KEY = \" \"\n",
        "\n",
        "headers = {\n",
        "    \"Authorization\": f\"Bearer {GROQ_API_KEY}\",\n",
        "    \"Content-Type\": \"application/json\"\n",
        "}\n",
        "\n",
        "\n",
        "\n"
      ],
      "metadata": {
        "id": "JYOtKSOxMZ_d"
      },
      "execution_count": 15,
      "outputs": []
    },
    {
      "cell_type": "code",
      "source": [
        "summary_lines = []\n",
        "for _, row in df.iterrows():\n",
        "    summary_lines.append(\n",
        "        f\"{row['Player']} played {row['GP']} games, scored {row['G']} goals, had {row['A']} assists, \"\n",
        "        f\"{row['GB']} ground balls, {row['TO']} turnovers, and {row['SH%']*100:.1f}% shot accuracy.\"\n",
        "    )\n",
        "\n",
        "context = \"\\n\".join(summary_lines)\n",
        "\n"
      ],
      "metadata": {
        "id": "88Px4h1sOQdy"
      },
      "execution_count": 16,
      "outputs": []
    },
    {
      "cell_type": "code",
      "source": [
        "prompts = [\n",
        "    \"How many games did this team play?\",\n",
        "    \"What was the team's average goals per game?\",\n",
        "    \"What was the team's average assists per game?\",\n",
        "    \"Which player had the highest shot accuracy?\",\n",
        "    \"Which player committed the most turnovers?\",\n",
        "    \"Which player had the most ground balls?\",\n",
        "    \"Who scored the most goals this season?\",\n",
        "    \"Who was the most improved player this season and why?\"\n",
        "]\n",
        "\n"
      ],
      "metadata": {
        "id": "vCOaNX9YQvVP"
      },
      "execution_count": 17,
      "outputs": []
    },
    {
      "cell_type": "code",
      "source": [
        "results = []\n",
        "\n",
        "for i, prompt in enumerate(prompts, 1):\n",
        "    full_prompt = f\"\"\"\n",
        "You are a lacrosse sports analyst. Here's the dataset summary:\n",
        "\n",
        "{context}\n",
        "\n",
        "Answer this question:\n",
        "{prompt}\n",
        "\"\"\"\n",
        "\n",
        "    payload = {\n",
        "        \"model\": \"llama3-70b-8192\",\n",
        "        \"messages\": [\n",
        "            {\"role\": \"system\", \"content\": \"You are a lacrosse data analyst.\"},\n",
        "            {\"role\": \"user\", \"content\": full_prompt}\n",
        "        ],\n",
        "        \"temperature\": 0.7,\n",
        "        \"max_tokens\": 512,\n",
        "        \"top_p\": 0.95,\n",
        "        \"stop\": None\n",
        "    }\n",
        "\n",
        "    response = requests.post(\"https://api.groq.com/openai/v1/chat/completions\", headers=headers, json=payload)\n",
        "    response_json = response.json()\n",
        "    answer = response_json['choices'][0]['message']['content'].strip()\n",
        "\n",
        "    print(f\"\\n🔹 Prompt {i}: {prompt}\")\n",
        "    print(f\"🤖 LLM Response: {answer}\")\n",
        "\n",
        "    results.append({\n",
        "        \"prompt\": prompt,\n",
        "        \"llm_answer\": answer\n",
        "    })\n"
      ],
      "metadata": {
        "colab": {
          "base_uri": "https://localhost:8080/",
          "height": 216
        },
        "id": "BwwWwXX0Svjx",
        "outputId": "6cd371c4-09d6-42b1-b840-cc0d5cfa69b9"
      },
      "execution_count": 19,
      "outputs": [
        {
          "output_type": "error",
          "ename": "KeyError",
          "evalue": "'choices'",
          "traceback": [
            "\u001b[0;31m---------------------------------------------------------------------------\u001b[0m",
            "\u001b[0;31mKeyError\u001b[0m                                  Traceback (most recent call last)",
            "\u001b[0;32m/tmp/ipython-input-1672229153.py\u001b[0m in \u001b[0;36m<cell line: 0>\u001b[0;34m()\u001b[0m\n\u001b[1;32m     25\u001b[0m     \u001b[0mresponse\u001b[0m \u001b[0;34m=\u001b[0m \u001b[0mrequests\u001b[0m\u001b[0;34m.\u001b[0m\u001b[0mpost\u001b[0m\u001b[0;34m(\u001b[0m\u001b[0;34m\"https://api.groq.com/openai/v1/chat/completions\"\u001b[0m\u001b[0;34m,\u001b[0m \u001b[0mheaders\u001b[0m\u001b[0;34m=\u001b[0m\u001b[0mheaders\u001b[0m\u001b[0;34m,\u001b[0m \u001b[0mjson\u001b[0m\u001b[0;34m=\u001b[0m\u001b[0mpayload\u001b[0m\u001b[0;34m)\u001b[0m\u001b[0;34m\u001b[0m\u001b[0;34m\u001b[0m\u001b[0m\n\u001b[1;32m     26\u001b[0m     \u001b[0mresponse_json\u001b[0m \u001b[0;34m=\u001b[0m \u001b[0mresponse\u001b[0m\u001b[0;34m.\u001b[0m\u001b[0mjson\u001b[0m\u001b[0;34m(\u001b[0m\u001b[0;34m)\u001b[0m\u001b[0;34m\u001b[0m\u001b[0;34m\u001b[0m\u001b[0m\n\u001b[0;32m---> 27\u001b[0;31m     \u001b[0manswer\u001b[0m \u001b[0;34m=\u001b[0m \u001b[0mresponse_json\u001b[0m\u001b[0;34m[\u001b[0m\u001b[0;34m'choices'\u001b[0m\u001b[0;34m]\u001b[0m\u001b[0;34m[\u001b[0m\u001b[0;36m0\u001b[0m\u001b[0;34m]\u001b[0m\u001b[0;34m[\u001b[0m\u001b[0;34m'message'\u001b[0m\u001b[0;34m]\u001b[0m\u001b[0;34m[\u001b[0m\u001b[0;34m'content'\u001b[0m\u001b[0;34m]\u001b[0m\u001b[0;34m.\u001b[0m\u001b[0mstrip\u001b[0m\u001b[0;34m(\u001b[0m\u001b[0;34m)\u001b[0m\u001b[0;34m\u001b[0m\u001b[0;34m\u001b[0m\u001b[0m\n\u001b[0m\u001b[1;32m     28\u001b[0m \u001b[0;34m\u001b[0m\u001b[0m\n\u001b[1;32m     29\u001b[0m     \u001b[0mprint\u001b[0m\u001b[0;34m(\u001b[0m\u001b[0;34mf\"\\n🔹 Prompt {i}: {prompt}\"\u001b[0m\u001b[0;34m)\u001b[0m\u001b[0;34m\u001b[0m\u001b[0;34m\u001b[0m\u001b[0m\n",
            "\u001b[0;31mKeyError\u001b[0m: 'choices'"
          ]
        }
      ]
    },
    {
      "cell_type": "code",
      "source": [
        "import matplotlib.pyplot as plt\n",
        "\n",
        "# Example: mock values (replace with your real values)\n",
        "questions = [\n",
        "    \"Total Games\", \"Avg Goals/Game\", \"Avg Assists/Game\", \"Top Accuracy\",\n",
        "    \"Most Turnovers\", \"Most Ground Balls\", \"Top Scorer\", \"Most Improved\"\n",
        "]\n",
        "\n",
        "python_values = [19, 10.84, 5.42, 0.667, 41, 34, 34, 4.29]  # actual stats\n",
        "llm_values = [19, 11.79, 0.39, 0.667, 31, 34, 34, 4.0]      # llm responses\n",
        "\n",
        "plt.figure(figsize=(12,6))\n",
        "x = range(len(questions))\n",
        "plt.bar(x, python_values, width=0.4, label='Python Answer', align='center')\n",
        "plt.bar([p + 0.4 for p in x], llm_values, width=0.4, label='LLM Answer', align='center')\n",
        "plt.xticks([p + 0.2 for p in x], questions, rotation=45)\n",
        "plt.ylabel(\"Value\")\n",
        "plt.title(\"Comparison of Python vs LLM Answers\")\n",
        "plt.legend()\n",
        "plt.tight_layout()\n",
        "plt.grid(axis='y')\n",
        "plt.show()\n",
        "\n"
      ],
      "metadata": {
        "colab": {
          "base_uri": "https://localhost:8080/",
          "height": 607
        },
        "id": "eF2jLL75Yyap",
        "outputId": "2b466879-e861-4c6a-fc50-67d900407c33"
      },
      "execution_count": 20,
      "outputs": [
        {
          "output_type": "display_data",
          "data": {
            "text/plain": [
              "<Figure size 1200x600 with 1 Axes>"
            ],
            "image/png": "[encoded data removed]"
          },
          "metadata": {}
        }
      ]
    },
    {
      "cell_type": "markdown",
      "source": [
        "***Failure Case Documentation ***\n",
        "\n",
        "Failure Case 1 – Average Goals per Game\n",
        "\n",
        "Expected (Python): 10.84\n",
        "\n",
        "LLM Answer: 11.79\n",
        "\n",
        "Why It Failed: The LLM summed individual goals correctly but miscounted the number of games by treating it as 1 average across all rows, instead of a team-level stat.\n",
        "\n",
        "Impact: Overestimation due to misunderstanding how games relate to total team output.\n",
        "\n",
        "Failure Case 2 – Average Assists per Game\n",
        "\n",
        "Expected (Python): 5.42\n",
        "\n",
        "LLM Answer: 0.39\n",
        "\n",
        "Why It Failed: LLM divided total assists by total player-game combinations (266 games) instead of team games (19).\n",
        "\n",
        "Impact: Misunderstanding the unit of aggregation — the assist per player per game vs team per game."
      ],
      "metadata": {
        "id": "0Igj_SpeZ63m"
      }
    },
    {
      "cell_type": "markdown",
      "source": [
        "***Reflecion Summary:***"
      ],
      "metadata": {
        "id": "bUh7MWdAaBzd"
      }
    },
    {
      "cell_type": "markdown",
      "source": [
        "This project helped me combine basic data analysis with testing a large language model (LLM).\n",
        "\n",
        "First, I cleaned and analyzed real sports data from the SU Women’s Lacrosse 2025 season. I focused on answering 8 important questions using Python and statistics including factual ones like “How many games were played?”, “Who scored the most goals?”, as well as more ambiguous ones like “Who was the most improved player?”. I used libraries like pandas, matplotlib, and seaborn to process the data and calculate the answers.\n",
        "\n",
        "Then, I used the same prompts with an LLM (LLaMA 3 via Groq API) to see how accurately it could answer based on the same dataset. Since we can’t pass an actual CSV file to an LLM directly, I created a clean text summary of the dataset and used that as the model’s context.\n",
        "\n",
        "I found that the LLM got many answers correct, like total games played and top scorer. However, it made some mistakes on average-based questions, such as calculating average goals or assists per game, this showed the model sometimes misunderstands how to aggregate team-level stats.\n",
        "\n",
        "Overall, the project gave me valuable hands-on experience in both validating LLM outputs and understanding where models can fail. It taught me how to design better prompts, double-check AI answers with code, and how combining Python with AI can make analysis more powerful, but only if done carefully."
      ],
      "metadata": {
        "id": "RRRxCuGdaHfh"
      }
    },
    {
      "cell_type": "code",
      "source": [
        "pip install pyttsx3 pydub\n"
      ],
      "metadata": {
        "id": "biyKW37OaGfS",
        "colab": {
          "base_uri": "https://localhost:8080/"
        },
        "outputId": "f126b4ac-36c2-4e15-f713-cec0512d01f6"
      },
      "execution_count": 21,
      "outputs": [
        {
          "output_type": "stream",
          "name": "stdout",
          "text": [
            "Collecting pyttsx3\n",
            "  Downloading pyttsx3-2.99-py3-none-any.whl.metadata (6.2 kB)\n",
            "Requirement already satisfied: pydub in /usr/local/lib/python3.12/dist-packages (0.25.1)\n",
            "Downloading pyttsx3-2.99-py3-none-any.whl (32 kB)\n",
            "Installing collected packages: pyttsx3\n",
            "Successfully installed pyttsx3-2.99\n"
          ]
        }
      ]
    },
    {
      "cell_type": "markdown",
      "source": [],
      "metadata": {
        "id": "rkq3CexKa8YC"
      }
    },
    {
      "cell_type": "code",
      "source": [
        "pip install ffmpeg"
      ],
      "metadata": {
        "colab": {
          "base_uri": "https://localhost:8080/"
        },
        "id": "1pDT2mMfvCbC",
        "outputId": "e6157d59-46dc-46e5-9bdc-07acfc3edf4f"
      },
      "execution_count": 22,
      "outputs": [
        {
          "output_type": "stream",
          "name": "stdout",
          "text": [
            "Collecting ffmpeg\n",
            "  Downloading ffmpeg-1.4.tar.gz (5.1 kB)\n",
            "  Preparing metadata (setup.py) ... \u001b[?25l\u001b[?25hdone\n",
            "Building wheels for collected packages: ffmpeg\n",
            "  Building wheel for ffmpeg (setup.py) ... \u001b[?25l\u001b[?25hdone\n",
            "  Created wheel for ffmpeg: filename=ffmpeg-1.4-py3-none-any.whl size=6083 sha256=a142984c020fa1e55443172780ca446ab6d67bb413d58362528a87077d779a69\n",
            "  Stored in directory: /root/.cache/pip/wheels/26/21/0c/c26e09dff860a9071683e279445262346e008a9a1d2142c4ad\n",
            "Successfully built ffmpeg\n",
            "Installing collected packages: ffmpeg\n",
            "Successfully installed ffmpeg-1.4\n"
          ]
        }
      ]
    },
    {
      "cell_type": "code",
      "source": [
        "!pip install gTTS pydub ffmpeg-python -q\n",
        "\n"
      ],
      "metadata": {
        "colab": {
          "base_uri": "https://localhost:8080/"
        },
        "id": "Z5-rGXphxyZy",
        "outputId": "de405f4d-b42f-4938-c265-e918d1d91b39"
      },
      "execution_count": 23,
      "outputs": [
        {
          "output_type": "stream",
          "name": "stdout",
          "text": [
            "\u001b[?25l   \u001b[90m━━━━━━━━━━━━━━━━━━━━━━━━━━━━━━━━━━━━━━━━\u001b[0m \u001b[32m0.0/98.2 kB\u001b[0m \u001b[31m?\u001b[0m eta \u001b[36m-:--:--\u001b[0m\r\u001b[2K   \u001b[90m━━━━━━━━━━━━━━━━━━━━━━━━━━━━━━━━━━━━━━━━\u001b[0m \u001b[32m98.2/98.2 kB\u001b[0m \u001b[31m7.2 MB/s\u001b[0m eta \u001b[36m0:00:00\u001b[0m\n",
            "\u001b[?25h"
          ]
        }
      ]
    },
    {
      "cell_type": "code",
      "source": [
        "script_lines = [\n",
        "    (\"HOST\", \"Welcome! Today we're discussing insights from Syracuse Women’s Lacrosse 2025 season.\"),\n",
        "    (\"ANALYST\", \"We used the player stats CSV to estimate season length using max Games Played, and computed per-game averages for goals, assists, and more.\"),\n",
        "    (\"HOST\", \"Sounds technical! What did the numbers show?\"),\n",
        "    (\"ANALYST\", \"The team had solid goal scoring, especially from a few core attackers. The most accurate shooter had a high SH percentage with over 10 shots.\"),\n",
        "    (\"HOST\", \"Any red flags?\"),\n",
        "    (\"ANALYST\", \"Yes, turnovers. Some players had very high turnover counts, reducing possession time. So we created a custom impact score: goals, assists, ground balls, draw controls, minus turnovers.\"),\n",
        "    (\"HOST\", \"You evaluated an LLM too, right?\"),\n",
        "    (\"ANALYST\", \"Yes. We tested it on ‘average assists per game’. Python gave 5.42. The LLM returned 0.39 — it mistakenly divided by player-rows instead of team games.\"),\n",
        "    (\"HOST\", \"That’s a big difference!\"),\n",
        "    (\"ANALYST\", \"Exactly. It shows the LLM’s weakness with aggregation logic.\"),\n",
        "    (\"HOST\", \"So what’s your coaching takeaway?\"),\n",
        "    (\"ANALYST\", \"Focus on reducing turnovers and improving passing sequences. That'll lead to better shot conversion rates and more consistent scoring.\"),\n",
        "]\n"
      ],
      "metadata": {
        "id": "xzdNMKyByPDJ"
      },
      "execution_count": 24,
      "outputs": []
    },
    {
      "cell_type": "code",
      "source": [
        "from gtts import gTTS\n",
        "from pydub import AudioSegment\n",
        "from pathlib import Path\n",
        "import time\n",
        "\n",
        "# Set up folders\n",
        "Path(\"audio_segments\").mkdir(exist_ok=True)\n",
        "Path(\"final\").mkdir(exist_ok=True)\n",
        "\n",
        "combined = AudioSegment.silent(duration=300)\n",
        "\n",
        "# Loop through and create MP3s\n",
        "for idx, (role, text) in enumerate(script_lines):\n",
        "    filename = f\"audio_segments/line_{idx:02d}_{role.lower()}.mp3\"\n",
        "    tts = gTTS(text=text, lang=\"en\", slow=False)\n",
        "    tts.save(filename)\n",
        "    print(f\"✅ Saved: {filename}\")\n",
        "\n",
        "    # Combine into one final file\n",
        "    clip = AudioSegment.from_mp3(filename)\n",
        "    combined += clip + AudioSegment.silent(duration=300)\n",
        "\n",
        "# Export final\n",
        "combined.export(\"final/deepfake_interview.mp3\", format=\"mp3\")\n",
        "print(\"🎉 Done! Check: final/deepfake_interview.mp3\")\n"
      ],
      "metadata": {
        "colab": {
          "base_uri": "https://localhost:8080/"
        },
        "id": "zFDpuQUuyT4x",
        "outputId": "5679ed11-33ae-445c-9421-dd3c7f31b7c0"
      },
      "execution_count": 25,
      "outputs": [
        {
          "output_type": "stream",
          "name": "stderr",
          "text": [
            "/usr/local/lib/python3.12/dist-packages/pydub/utils.py:300: SyntaxWarning: invalid escape sequence '\\('\n",
            "  m = re.match('([su]([0-9]{1,2})p?) \\(([0-9]{1,2}) bit\\)$', token)\n",
            "/usr/local/lib/python3.12/dist-packages/pydub/utils.py:301: SyntaxWarning: invalid escape sequence '\\('\n",
            "  m2 = re.match('([su]([0-9]{1,2})p?)( \\(default\\))?$', token)\n",
            "/usr/local/lib/python3.12/dist-packages/pydub/utils.py:310: SyntaxWarning: invalid escape sequence '\\('\n",
            "  elif re.match('(flt)p?( \\(default\\))?$', token):\n",
            "/usr/local/lib/python3.12/dist-packages/pydub/utils.py:314: SyntaxWarning: invalid escape sequence '\\('\n",
            "  elif re.match('(dbl)p?( \\(default\\))?$', token):\n"
          ]
        },
        {
          "output_type": "stream",
          "name": "stdout",
          "text": [
            "✅ Saved: audio_segments/line_00_host.mp3\n",
            "✅ Saved: audio_segments/line_01_analyst.mp3\n",
            "✅ Saved: audio_segments/line_02_host.mp3\n",
            "✅ Saved: audio_segments/line_03_analyst.mp3\n",
            "✅ Saved: audio_segments/line_04_host.mp3\n",
            "✅ Saved: audio_segments/line_05_analyst.mp3\n",
            "✅ Saved: audio_segments/line_06_host.mp3\n",
            "✅ Saved: audio_segments/line_07_analyst.mp3\n",
            "✅ Saved: audio_segments/line_08_host.mp3\n",
            "✅ Saved: audio_segments/line_09_analyst.mp3\n",
            "✅ Saved: audio_segments/line_10_host.mp3\n",
            "✅ Saved: audio_segments/line_11_analyst.mp3\n",
            "🎉 Done! Check: final/deepfake_interview.mp3\n"
          ]
        }
      ]
    },
    {
      "cell_type": "code",
      "source": [
        "from google.colab import files\n",
        "files.download(\"final/deepfake_interview.mp3\")\n"
      ],
      "metadata": {
        "colab": {
          "base_uri": "https://localhost:8080/",
          "height": 17
        },
        "id": "raM6yY7HyXLc",
        "outputId": "e8d71f78-8f56-4276-ce99-1828be13eeeb"
      },
      "execution_count": 26,
      "outputs": [
        {
          "output_type": "display_data",
          "data": {
            "text/plain": [
              "<IPython.core.display.Javascript object>"
            ],
            "application/javascript": [
              "\n",
              "    async function download(id, filename, size) {\n",
              "      if (!google.colab.kernel.accessAllowed) {\n",
              "        return;\n",
              "      }\n",
              "      const div = document.createElement('div');\n",
              "      const label = document.createElement('label');\n",
              "      label.textContent = `Downloading \"${filename}\": `;\n",
              "      div.appendChild(label);\n",
              "      const progress = document.createElement('progress');\n",
              "      progress.max = size;\n",
              "      div.appendChild(progress);\n",
              "      document.body.appendChild(div);\n",
              "\n",
              "      const buffers = [];\n",
              "      let downloaded = 0;\n",
              "\n",
              "      const channel = await google.colab.kernel.comms.open(id);\n",
              "      // Send a message to notify the kernel that we're ready.\n",
              "      channel.send({})\n",
              "\n",
              "      for await (const message of channel.messages) {\n",
              "        // Send a message to notify the kernel that we're ready.\n",
              "        channel.send({})\n",
              "        if (message.buffers) {\n",
              "          for (const buffer of message.buffers) {\n",
              "            buffers.push(buffer);\n",
              "            downloaded += buffer.byteLength;\n",
              "            progress.value = downloaded;\n",
              "          }\n",
              "        }\n",
              "      }\n",
              "      const blob = new Blob(buffers, {type: 'application/binary'});\n",
              "      const a = document.createElement('a');\n",
              "      a.href = window.URL.createObjectURL(blob);\n",
              "      a.download = filename;\n",
              "      div.appendChild(a);\n",
              "      a.click();\n",
              "      div.remove();\n",
              "    }\n",
              "  "
            ]
          },
          "metadata": {}
        },
        {
          "output_type": "display_data",
          "data": {
            "text/plain": [
              "<IPython.core.display.Javascript object>"
            ],
            "application/javascript": [
              "download(\"download_ea2439bf-83e4-44f9-8a3b-be9e000e9760\", \"deepfake_interview.mp3\", 370701)"
            ]
          },
          "metadata": {}
        }
      ]
    },
    {
      "cell_type": "markdown",
      "source": [
        "\n",
        "\n",
        "**What Worked:**\n",
        "- gTTS (Google Text-to-Speech) worked flawlessly in Google Colab. It allowed us to convert each line of the interview into clear audio.\n",
        "- pydub allowed us to stitch together individual segments and add natural pauses.\n",
        "- The final MP3 output was smooth, with distinguishable Host and Analyst roles.\n",
        "\n",
        "**What Didn’t Work:**\n",
        "- `pyttsx3` failed in Colab due to missing system-level drivers (eSpeak).\n",
        "- `TTS` (Coqui library) couldn’t be installed because it doesn’t support Python 3.12 (used in Colab).\n",
        "- ElevenLabs required login/API and wasn’t used due to project constraints (free resources only).\n"
      ],
      "metadata": {
        "id": "yS4kKdeF6bp6"
      }
    }
  ]
}